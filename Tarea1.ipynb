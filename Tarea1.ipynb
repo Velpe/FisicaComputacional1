{
 "cells": [
  {
   "cell_type": "code",
   "execution_count": 1,
   "metadata": {},
   "outputs": [],
   "source": [
    "import numpy as np\n",
    "import matplotlib.pyplot as plt"
   ]
  },
  {
   "cell_type": "code",
   "execution_count": 2,
   "metadata": {},
   "outputs": [],
   "source": [
    "ruta='./Fitting2.txt'"
   ]
  },
  {
   "cell_type": "code",
   "execution_count": 3,
   "metadata": {},
   "outputs": [],
   "source": [
    "numbers=[]\n",
    "with open(ruta, \"r\", encoding=\"utf-8\") as f:\n",
    "    for line in f:\n",
    "        line2=[float(x) for x in line.split(\"\\t\")]\n",
    "        numbers.append(line2)\n",
    "numbers=np.array(numbers)"
   ]
  },
  {
   "cell_type": "code",
   "execution_count": 55,
   "metadata": {},
   "outputs": [],
   "source": [
    "thetaH=np.array([numbers[i][0] for i in range(0,numbers.shape[0])])\n",
    "Hr=np.array([numbers[i][1]for i in range(0,numbers.shape[0])])"
   ]
  },
  {
   "cell_type": "code",
   "execution_count": 70,
   "metadata": {},
   "outputs": [
    {
     "data": {
      "text/plain": [
       "array([90., 85., 80., 75., 70., 65., 60., 55., 50., 45., 40., 35., 30.,\n",
       "       25., 20., 15., 10.,  5.,  0.])"
      ]
     },
     "execution_count": 70,
     "metadata": {},
     "output_type": "execute_result"
    }
   ],
   "source": [
    "thetaH_rad=thetaH*np.pi/180\n",
    "thetaH_rad"
   ]
  },
  {
   "cell_type": "code",
   "execution_count": 57,
   "metadata": {},
   "outputs": [
    {
     "data": {
      "text/plain": [
       "array([2.3179, 2.3026, 2.3319, 2.3653, 2.4345, 2.5137, 2.6138, 2.7601,\n",
       "       2.9222, 3.0981, 3.3646, 3.6393, 3.9168, 4.332 , 4.6016, 4.9356,\n",
       "       5.2205, 5.3954, 5.4483])"
      ]
     },
     "execution_count": 57,
     "metadata": {},
     "output_type": "execute_result"
    }
   ],
   "source": [
    "Hr"
   ]
  },
  {
   "cell_type": "code",
   "execution_count": 11,
   "metadata": {},
   "outputs": [],
   "source": [
    "Meff=1.7\n",
    "\n",
    "def f(x,thetaH,Hr):\n",
    "  funcion=Meff*np.sin(2*x)-2*Hr*np.sin(x-thetaH)\n",
    "  return funcion\n",
    "\n",
    "def sign(x):\n",
    "  if x>0:\n",
    "    return 1\n",
    "  elif x<0:\n",
    "    return -1\n",
    "  else:\n",
    "    return 0"
   ]
  },
  {
   "cell_type": "markdown",
   "metadata": {},
   "source": [
    "Método de Bisección"
   ]
  },
  {
   "cell_type": "code",
   "execution_count": 12,
   "metadata": {},
   "outputs": [],
   "source": [
    "def biseccion(f,a,b,eps,thetaH_rad,Hr):\n",
    "  while True: \n",
    "    p=(a+b)/2\n",
    "    if f(a,thetaH_rad,Hr)*f(p,thetaH_rad,Hr)<0: b=p\n",
    "    if f(a,thetaH_rad,Hr)*f(p,thetaH_rad,Hr)>0: a=p\n",
    "    if np.abs(f(p,thetaH_rad,Hr))<eps: break\n",
    "  return (p)"
   ]
  },
  {
   "cell_type": "code",
   "execution_count": 66,
   "metadata": {},
   "outputs": [],
   "source": [
    "thetaM_biseccion=[]\n",
    "for i in range(0,len(Hr)-1):\n",
    "    thetaM_biseccion.append(biseccion(f,0,np.pi/2,1e-6,thetaH_rad[i],Hr[i]))\n",
    "    "
   ]
  },
  {
   "cell_type": "code",
   "execution_count": 67,
   "metadata": {},
   "outputs": [
    {
     "data": {
      "text/plain": [
       "[1.5707962331681395,\n",
       " 1.5205629500759814,\n",
       " 1.4696004081729808,\n",
       " 1.4176010435621529,\n",
       " 1.3630995974953033,\n",
       " 1.306082774972928,\n",
       " 1.2454684379367762,\n",
       " 1.1790327636528466,\n",
       " 1.1074212149844023,\n",
       " 1.030008926954738,\n",
       " 0.9410067699205081,\n",
       " 0.8449050831509399,\n",
       " 0.7414969515129007,\n",
       " 0.6234313638015543,\n",
       " 0.506417766332681,\n",
       " 0.38096727453043655,\n",
       " 0.2537431174421996,\n",
       " 0.12680358569546474,\n",
       " 0]"
      ]
     },
     "execution_count": 67,
     "metadata": {},
     "output_type": "execute_result"
    }
   ],
   "source": [
    "thetaM_biseccion.append(0)\n",
    "thetaM_biseccion"
   ]
  },
  {
   "cell_type": "code",
   "execution_count": 73,
   "metadata": {},
   "outputs": [
    {
     "data": {
      "image/png": "[encoded data removed]",
      "text/plain": [
       "<Figure size 432x288 with 1 Axes>"
      ]
     },
     "metadata": {
      "needs_background": "light"
     },
     "output_type": "display_data"
    }
   ],
   "source": [
    "plt.plot(thetaH_rad,thetaM_biseccion)\n",
    "plt.title(\"Método de Bisección\")\n",
    "plt.xlabel(r'$\\theta_{H}$',size=20)\n",
    "plt.ylabel(r'$\\theta_{M}$',size=20)\n",
    "plt.grid()\n",
    "plt.show()"
   ]
  },
  {
   "cell_type": "markdown",
   "metadata": {},
   "source": [
    "Método de Newton-Rhapson:\n",
    "\n",
    "Se tiene que la función es:\n",
    "\n",
    "$4\\pi M_{eff}sin(2\\theta_{M})=2H_{R}sin(\\theta_{M}-\\theta_{H})$\n",
    "\n",
    "Por tanto, la derivada con respecto a $\\theta_{M}$ es:\n",
    "\n",
    "$2(4\\pi M_{eff})cos(2\\theta_{M})=2H_{R}cos(\\theta_{M}-\\theta_{H})$"
   ]
  },
  {
   "cell_type": "code",
   "execution_count": 27,
   "metadata": {},
   "outputs": [],
   "source": [
    "def derivF(x,thetaH,Hr):\n",
    "    funcion=2*Meff*np.cos(2*x)-2*Hr*np.cos(x-thetaH)\n",
    "    return funcion"
   ]
  },
  {
   "cell_type": "code",
   "execution_count": 29,
   "metadata": {},
   "outputs": [],
   "source": [
    "def newton(f,df,p0,eps,thetaH,Hr): \n",
    "  while True: \n",
    "    p=p0-f(p0,thetaH,Hr)/df(p0,thetaH,Hr)\n",
    "    if np.abs(p-p0)<eps: break \n",
    "    p0=p\n",
    "  return (p)"
   ]
  },
  {
   "cell_type": "code",
   "execution_count": 31,
   "metadata": {},
   "outputs": [],
   "source": [
    "thetaM_newton=[]\n",
    "for i in range(0,len(Hr)):\n",
    "    thetaM_newton.append(newton(f,derivF,1,1e-4,thetaH_rad[i],Hr[i]))"
   ]
  },
  {
   "cell_type": "code",
   "execution_count": 61,
   "metadata": {},
   "outputs": [],
   "source": [
    "newton(f,derivF,1,1e-4,thetaH_rad[18],Hr[18])\n",
    "thetaM_newton.append(0)"
   ]
  },
  {
   "cell_type": "code",
   "execution_count": 62,
   "metadata": {},
   "outputs": [
    {
     "data": {
      "text/plain": [
       "[1.5707963267948966,\n",
       " 1.520563015075206,\n",
       " 1.469600325545324,\n",
       " 1.417600986771262,\n",
       " 1.363099486149752,\n",
       " 1.3060826685380915,\n",
       " 1.245468546079572,\n",
       " 1.17903263776583,\n",
       " 1.1074212007533684,\n",
       " 1.030009007351685,\n",
       " 0.9410068165393886,\n",
       " 0.8449052006473735,\n",
       " 0.741496888634093,\n",
       " 0.6234312418075376,\n",
       " 0.5064176961423016,\n",
       " 0.38096730321698,\n",
       " 0.2537431258680072,\n",
       " 0.1268035180760085,\n",
       " 0]"
      ]
     },
     "execution_count": 62,
     "metadata": {},
     "output_type": "execute_result"
    }
   ],
   "source": [
    "thetaM_newton"
   ]
  },
  {
   "cell_type": "code",
   "execution_count": 72,
   "metadata": {},
   "outputs": [
    {
     "data": {
      "image/png": "[encoded data removed]",
      "text/plain": [
       "<Figure size 432x288 with 1 Axes>"
      ]
     },
     "metadata": {
      "needs_background": "light"
     },
     "output_type": "display_data"
    }
   ],
   "source": [
    "plt.plot(thetaH_rad,thetaM_newton)\n",
    "plt.title(\"Método de Newton-Rhapson\")\n",
    "plt.xlabel(r'$\\theta_{H}$',size=20)\n",
    "plt.ylabel(r'$\\theta_{M}$',size=20)\n",
    "plt.grid()\n",
    "plt.show()"
   ]
  },
  {
   "cell_type": "code",
   "execution_count": null,
   "metadata": {},
   "outputs": [],
   "source": []
  }
 ],
 "metadata": {
  "interpreter": {
   "hash": "f9f85f796d01129d0dd105a088854619f454435301f6ffec2fea96ecbd9be4ac"
  },
  "kernelspec": {
   "display_name": "Python 3.9.6 64-bit",
   "language": "python",
   "name": "python3"
  },
  "language_info": {
   "codemirror_mode": {
    "name": "ipython",
    "version": 3
   },
   "file_extension": ".py",
   "mimetype": "text/x-python",
   "name": "python",
   "nbconvert_exporter": "python",
   "pygments_lexer": "ipython3",
   "version": "3.9.6"
  },
  "orig_nbformat": 4
 },
 "nbformat": 4,
 "nbformat_minor": 2
}
